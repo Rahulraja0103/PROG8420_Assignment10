{
 "cells": [
  {
   "cell_type": "code",
   "execution_count": 21,
   "metadata": {},
   "outputs": [
    {
     "name": "stdout",
     "output_type": "stream",
     "text": [
      "Missing Values:\n",
      " age          0\n",
      "job          0\n",
      "marital      1\n",
      "education    0\n",
      "default      0\n",
      "balance      1\n",
      "housing      0\n",
      "loan         0\n",
      "contact      1\n",
      "day          0\n",
      "month        0\n",
      "duration     0\n",
      "campaign     0\n",
      "pdays        0\n",
      "previous     0\n",
      "poutcome     1\n",
      "y            1\n",
      "dtype: int64\n"
     ]
    },
    {
     "data": {
      "image/png": "[encoded data removed]",
      "text/plain": [
       "<Figure size 1000x600 with 1 Axes>"
      ]
     },
     "metadata": {},
     "output_type": "display_data"
    }
   ],
   "source": [
    "import pandas as pd\n",
    "import numpy as np\n",
    "import seaborn as sns\n",
    "import matplotlib.pyplot as plt\n",
    "\n",
    "def Processing_credit(file_path):\n",
    "    try:\n",
    "        #Loading the dataset\n",
    "        credit_data = pd.read_csv(file_path)\n",
    "    except FileNotFoundError:\n",
    "        print(\"Error: file '{file_path}' not found. \")\n",
    "        return\n",
    "    \n",
    "    # Check for missing values in each column\n",
    "    missing_values = credit_data.isnull().sum()\n",
    "    print(\"Missing Values:\\n\", missing_values)\n",
    "\n",
    "    # If there are missing values, handle them appropriately\n",
    "    # For example, replace missing values with the median for numerical columns\n",
    "    credit_data.fillna(credit_data['balance'].median(), inplace=True)\n",
    "\n",
    "    # Detect and handle outliers using z-score or IQR methods\n",
    "    # For example, remove outliers from numerical columns using z-score\n",
    "    from scipy.stats import zscore\n",
    "    z_scores = zscore(credit_data.select_dtypes(include=['int64', 'float64']))\n",
    "    abs_z_scores = np.abs(z_scores)\n",
    "    filtered_entries = (abs_z_scores < 3).all(axis=1)\n",
    "    credit_data = credit_data[filtered_entries]\n",
    "\n",
    "    #Address Outliers\n",
    "    #Visualize the distribution of numeric columns using box plots\n",
    "    plt.figure(figsize=(10, 6))\n",
    "    sns.boxplot(data=credit_data[['age', 'job']])\n",
    "    plt.title(\"Boxplot of Age and Job\")\n",
    "    plt.show()\n",
    "\n",
    "\n",
    "\n",
    "\n",
    "if __name__ == \"__main__\":\n",
    "    file_path = \"bank.csv\"\n",
    "    Processing_credit(file_path)\n",
    "\n"
   ]
  }
 ],
 "metadata": {
  "kernelspec": {
   "display_name": "Python 3",
   "language": "python",
   "name": "python3"
  },
  "language_info": {
   "codemirror_mode": {
    "name": "ipython",
    "version": 3
   },
   "file_extension": ".py",
   "mimetype": "text/x-python",
   "name": "python",
   "nbconvert_exporter": "python",
   "pygments_lexer": "ipython3",
   "version": "3.11.4"
  },
  "orig_nbformat": 4
 },
 "nbformat": 4,
 "nbformat_minor": 2
}
